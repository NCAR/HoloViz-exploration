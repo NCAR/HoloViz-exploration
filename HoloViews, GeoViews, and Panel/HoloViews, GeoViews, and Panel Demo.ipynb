{
 "cells": [
  {
   "cell_type": "markdown",
   "id": "956d2343",
   "metadata": {},
   "source": [
    "# Using Interactive Widgets with Map Visualizations"
   ]
  },
  {
   "cell_type": "markdown",
   "id": "6701e669",
   "metadata": {},
   "source": [
    "This notebook is an exploration of using HoloViews, GeoViews, and Panel together to plot multiple maps and then allow a user to toggle between them using tabs. Four netcdf datasets are visualized - minimum temperature, maximum temperature, average temperature, and precipitation across the United States in 2022."
   ]
  },
  {
   "cell_type": "markdown",
   "id": "819c2c00",
   "metadata": {},
   "source": [
    "## Part 1: Importing Libraries"
   ]
  },
  {
   "cell_type": "code",
   "execution_count": null,
   "id": "5654192d",
   "metadata": {},
   "outputs": [],
   "source": [
    "# imports for holoviews\n",
    "import pandas as pd\n",
    "import numpy as np\n",
    "import holoviews as hv\n",
    "from holoviews import opts\n",
    "from bokeh.plotting import show\n",
    "hv.extension('bokeh')"
   ]
  },
  {
   "cell_type": "code",
   "execution_count": null,
   "id": "3b93fd7e",
   "metadata": {},
   "outputs": [],
   "source": [
    "# necessary imports for geoviews, a library dependent on holoviews\n",
    "import geoviews as gv\n",
    "import geoviews.feature as gf\n",
    "import xarray as xr\n",
    "from cartopy import crs\n",
    "\n",
    "gv.extension('bokeh')"
   ]
  },
  {
   "cell_type": "code",
   "execution_count": null,
   "id": "fbf8075b",
   "metadata": {},
   "outputs": [],
   "source": [
    "# necessary imports for panel\n",
    "import panel as pn"
   ]
  },
  {
   "cell_type": "code",
   "execution_count": null,
   "id": "7cc55877",
   "metadata": {},
   "outputs": [],
   "source": [
    "hv.renderer('bokeh').theme = 'night_sky'"
   ]
  },
  {
   "cell_type": "markdown",
   "id": "7c5c2b9b",
   "metadata": {},
   "source": [
    "## Part 2: Opening Datasets and Creating HoloViews/GeoViews Elements"
   ]
  },
  {
   "cell_type": "code",
   "execution_count": null,
   "id": "7596b60a",
   "metadata": {},
   "outputs": [],
   "source": [
    "tmin_ds = xr.open_dataset('2022nclimgrid_tmin.nc')\n",
    "tmin_dataset = gv.Dataset(tmin_ds)\n",
    "tmin_vis = tmin_dataset.to(gv.Image, ['lon', 'lat'], 'tmin')"
   ]
  },
  {
   "cell_type": "code",
   "execution_count": null,
   "id": "f4d5f188",
   "metadata": {},
   "outputs": [],
   "source": [
    "tmin_vis.opts(xlabel=\"Longitude (degrees)\", ylabel=\"Latitude (degrees)\", colorbar=True, responsive=True, min_height=400, clabel = \"Degrees C\")"
   ]
  },
  {
   "cell_type": "code",
   "execution_count": null,
   "id": "0261a8fb",
   "metadata": {},
   "outputs": [],
   "source": [
    "tmax_ds = xr.open_dataset('2022nclimgrid_tmax.nc')\n",
    "tmax_dataset = gv.Dataset(tmax_ds)\n",
    "tmax_vis = tmax_dataset.to(gv.Image, ['lon', 'lat'], 'tmax')\n",
    "tmax_vis.opts(xlabel=\"Longitude (degrees)\", ylabel=\"Latitude (degrees)\", colorbar=True, responsive=True, min_height=400, clabel = \"Degrees C\")\n",
    "tmax_vis"
   ]
  },
  {
   "cell_type": "code",
   "execution_count": null,
   "id": "4ac64f25",
   "metadata": {},
   "outputs": [],
   "source": [
    "tavg_ds = xr.open_dataset('2022nclimgrid_tavg.nc')\n",
    "tavg_dataset = gv.Dataset(tavg_ds)\n",
    "tavg_vis = tavg_dataset.to(gv.Image, ['lon', 'lat'], 'tavg')\n",
    "tavg_vis.opts(xlabel=\"Longitude (degrees)\", ylabel=\"Latitude (degrees)\", colorbar=True, responsive=True, min_height=400, clabel = \"Degrees C\")\n",
    "tavg_vis"
   ]
  },
  {
   "cell_type": "code",
   "execution_count": null,
   "id": "4e68a6e6",
   "metadata": {},
   "outputs": [],
   "source": [
    "prcp_ds = xr.open_dataset('2022nclimgrid_prcp.nc')\n",
    "prcp_dataset = gv.Dataset(prcp_ds)\n",
    "prcp_vis = prcp_dataset.to(gv.Image, ['lon', 'lat'], 'prcp')\n",
    "prcp_vis.opts(xlabel=\"Longitude (degrees)\", ylabel=\"Latitude (degrees)\", colorbar=True, responsive=True, min_height=400, clabel=\"Precipitation (mm)\")\n",
    "prcp_vis"
   ]
  },
  {
   "cell_type": "markdown",
   "id": "3d4dda92",
   "metadata": {},
   "source": [
    "## Part 3: Using Panel to Create an Interactive Widget"
   ]
  },
  {
   "cell_type": "code",
   "execution_count": null,
   "id": "c38395e2",
   "metadata": {},
   "outputs": [],
   "source": [
    "# giving each visualization a different colormap and adding other styling details before plotting\n",
    "tmin_vis.opts(cmap = 'blues', width=700, xlabel=\"Longitude (degrees)\", ylabel=\"Latitude (degrees)\", colorbar=True, responsive=True, min_height=400, clabel = \"Mean Daily Minimum Temperature in Degrees C\")\n",
    "tmax_vis.opts(cmap = 'reds', width=700, xlabel=\"Longitude (degrees)\", ylabel=\"Latitude (degrees)\", colorbar=True, responsive=True, min_height=400, clabel = \"Mean Daily Maximum Temperature in Degrees C\")\n",
    "tavg_vis.opts(cmap = 'greens', width=700, xlabel=\"Longitude (degrees)\", ylabel=\"Latitude (degrees)\", colorbar=True, responsive=True, min_height=400, clabel = \"Mean Daily Average Temperature in Degrees C\")\n",
    "prcp_vis.opts(cmap = 'PuBuGn', width=700, xlabel=\"Longitude (degrees)\", ylabel=\"Latitude (degrees)\", colorbar=True, responsive=True, min_height=400, clabel=\"Mean Daily Precipitation (mm)\")\n",
    "\n",
    "# creating a radio button group to allow users to toggle between the four\n",
    "tabs = pn.widgets.RadioButtonGroup(options=['Min Temp', 'Max Temp', 'Avg Temp', 'Precipitation'])\n",
    "\n",
    "# defining the intended behavior of the radio button group with a function\n",
    "@pn.depends(tabs)\n",
    "def map_choice(var):\n",
    "    if var == 'Min Temp':\n",
    "        return tmin_vis\n",
    "    elif var == 'Max Temp':\n",
    "        return tmax_vis\n",
    "    elif var == 'Avg Temp':\n",
    "        return tavg_vis\n",
    "    elif var == 'Precipitation':\n",
    "        return prcp_vis\n",
    "\n",
    "# create interactivity by linking the widget to the function\n",
    "pn.interact(map_choice, var=tabs)"
   ]
  }
 ],
 "metadata": {
  "kernelspec": {
   "display_name": "Python 3 (ipykernel)",
   "language": "python",
   "name": "python3"
  },
  "language_info": {
   "codemirror_mode": {
    "name": "ipython",
    "version": 3
   },
   "file_extension": ".py",
   "mimetype": "text/x-python",
   "name": "python",
   "nbconvert_exporter": "python",
   "pygments_lexer": "ipython3",
   "version": "3.9.13"
  }
 },
 "nbformat": 4,
 "nbformat_minor": 5
}
